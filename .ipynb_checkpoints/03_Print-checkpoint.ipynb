{
 "cells": [
  {
   "cell_type": "markdown",
   "id": "c103ebca",
   "metadata": {},
   "source": [
    "## Print\n",
    "파이썬에서의 출력함수는 print()입니다.<br>\n",
    "print()의 다양한 출력 방식을 알아야 간단하고, 깔끔하게 출력할 수 있습니다.<br>\n",
    "\n",
    "### 서식문자\n",
    "- 문자열 사이에 변수를 넣어 출력할 때, 간략하게 써서 표현할 수 있도록 도와줍니다.\n",
    "1. %를 사용해 출력\n",
    "    - %s: 문자열 표현하기\n",
    "    - %f: 실수 표현하기\n",
    "    - %d: 정수 표현하기\n",
    "2. format을 사용해 출력\n",
    "3. f''를 사용해 출력\n",
    "\n",
    "- 소수점 출력은 {:.자리수f}"
   ]
  },
  {
   "cell_type": "code",
   "execution_count": 1,
   "id": "fb3ad86a",
   "metadata": {},
   "outputs": [
    {
     "name": "stdout",
     "output_type": "stream",
     "text": [
      "당신의 이름을 입력해주세요.최한빈\n",
      "내 이름은 최한빈 입니다.\n"
     ]
    }
   ],
   "source": [
    "# 문자열과 변수의 출력 1\n",
    "# 내 이름은 최한빈 입니다.\n",
    "name = input('당신의 이름을 입력해주세요.')\n",
    "print('내 이름은', name, '입니다.')"
   ]
  },
  {
   "cell_type": "code",
   "execution_count": 2,
   "id": "190c2e35",
   "metadata": {
    "scrolled": true
   },
   "outputs": [
    {
     "name": "stdout",
     "output_type": "stream",
     "text": [
      "당신의 이름과 나이, 사는 지역을 입력해주세요.최한빈 99 김포\n",
      "내 이름은 최한빈 입니다. 그리고 나이는 99 살이고, 사는 곳은 김포 입니다.\n"
     ]
    }
   ],
   "source": [
    "# 문자열과 변수의 출력 2\n",
    "# 내 이름은 최한빈 입니다. 그리고 나이는 99 살이고, 사는 곳은 김포 입니다.\n",
    "name, age, place = input('당신의 이름과 나이, 사는 지역을 입력해주세요.').split()\n",
    "age = int(age)\n",
    "print('내 이름은', name, '입니다. 그리고 나이는', age, '살이고, 사는 곳은', place, '입니다.') # 변수가 많아질수록 복잡해지는 것을 확인"
   ]
  },
  {
   "cell_type": "code",
   "execution_count": 10,
   "id": "d4fba55e",
   "metadata": {},
   "outputs": [
    {
     "name": "stdout",
     "output_type": "stream",
     "text": [
      "최한빈 99 김포\n",
      "내 이름은 최한빈입니다.\n",
      "내 이름은 최한빈입니다. 그리고 나이는 99살이고, 사는 곳은 김포입니다.\n",
      "내 이름은 최한빈입니다. 그리고 나이는 99살이고, 사는 곳은 김포입니다.\n",
      "내 이름은 최한빈입니다. 그리고 나이는 99살이고, 사는 곳은 김포입니다.\n",
      "내 이름은 최한빈입니다. 그리고 나이는 99살이고, 사는 곳은 김포입니다.\n"
     ]
    }
   ],
   "source": [
    "print(name, age, place)\n",
    "# 서식문자\n",
    "# 1. %를 사용해 출력한다.\n",
    "print('내 이름은 %s입니다.' % name)\n",
    "print('내 이름은 %s입니다. 그리고 나이는 %d살이고, 사는 곳은 %s입니다.' % (name, age, place)) # 괄호 작성\n",
    "\n",
    "# 2. format을 사용해 출력한다.\n",
    "print('내 이름은 {}입니다. 그리고 나이는 {}살이고, 사는 곳은 {}입니다.'.format(name, age, place))\n",
    "print('내 이름은 {a}입니다. 그리고 나이는 {b}살이고, 사는 곳은 {c}입니다.'.format(b=age, c=place, a=name))\n",
    "\n",
    "# 3. f''을 사용해 출력한다.\n",
    "print(f'내 이름은 {name}입니다. 그리고 나이는 {age}살이고, 사는 곳은 {place}입니다.')"
   ]
  },
  {
   "cell_type": "code",
   "execution_count": 14,
   "id": "6bcadc49",
   "metadata": {},
   "outputs": [
    {
     "name": "stdout",
     "output_type": "stream",
     "text": [
      "3.141592653589793\n",
      "3.14159\n"
     ]
    }
   ],
   "source": [
    "import math\n",
    "print(math.pi)\n",
    "print('{:.5f}'.format(math.pi))"
   ]
  },
  {
   "cell_type": "markdown",
   "id": "71ca029f",
   "metadata": {},
   "source": [
    "### end와 sep옵션\n",
    "- end: 줄 별로 print()를 사용했을 때, print() 간의 문자열 설정\n",
    "    * default = '\\n'\n",
    "    * '\\n'는 이스케이프 문자로 줄바꿈을 의미함\n",
    "- sep: 하나의 print() 함수에서 여러 원소를 출력할 때, 원소 간의 문자열 설정\n",
    "    * default = ' '"
   ]
  },
  {
   "cell_type": "code",
   "execution_count": 15,
   "id": "a3c611b9",
   "metadata": {},
   "outputs": [
    {
     "name": "stdout",
     "output_type": "stream",
     "text": [
      "1\n",
      "1\n"
     ]
    }
   ],
   "source": [
    "print(1)\n",
    "print(1)"
   ]
  },
  {
   "cell_type": "code",
   "execution_count": 16,
   "id": "048d83c7",
   "metadata": {},
   "outputs": [
    {
     "name": "stdout",
     "output_type": "stream",
     "text": [
      "1 2 3 4 5\n"
     ]
    }
   ],
   "source": [
    "print(1, 2, 3, 4, 5)"
   ]
  },
  {
   "cell_type": "code",
   "execution_count": 19,
   "id": "7110083e",
   "metadata": {},
   "outputs": [
    {
     "name": "stdout",
     "output_type": "stream",
     "text": [
      "11\n",
      "----------------------------------------------------------------------------------------------------\n",
      "1/1\n"
     ]
    }
   ],
   "source": [
    "# end\n",
    "print(1, end = '')\n",
    "print(1)\n",
    "\n",
    "print('--' * 50)\n",
    "print(1, end = '/')\n",
    "print(1)"
   ]
  },
  {
   "cell_type": "code",
   "execution_count": 23,
   "id": "66ca9eac",
   "metadata": {},
   "outputs": [
    {
     "name": "stdout",
     "output_type": "stream",
     "text": [
      "12345\n",
      "----------------------------------------------------------------------------------------------------\n",
      "1/2/3/4/5\n"
     ]
    }
   ],
   "source": [
    "# sep\n",
    "print(1, 2, 3, 4, 5, sep='')\n",
    "\n",
    "print('--' * 50)\n",
    "print(1, 2, 3, 4, 5, sep='/')"
   ]
  },
  {
   "cell_type": "code",
   "execution_count": 26,
   "id": "ee7baeb9",
   "metadata": {},
   "outputs": [
    {
     "name": "stdout",
     "output_type": "stream",
     "text": [
      "1/2/3/4/5-6/7/8/9/10-"
     ]
    },
    {
     "data": {
      "text/plain": [
       "'\\n1/2/3/4/5-6/7/8/9/10-\\n'"
      ]
     },
     "execution_count": 26,
     "metadata": {},
     "output_type": "execute_result"
    }
   ],
   "source": [
    "# end와 sep 설정\n",
    "print(1, 2, 3, 4, 5, sep='/', end='-')\n",
    "print(6, 7, 8, 9, 10, sep='/', end='-')\n",
    "\n",
    "'''\n",
    "1/2/3/4/5-6/7/8/9/10-\n",
    "'''"
   ]
  },
  {
   "cell_type": "code",
   "execution_count": 1,
   "id": "f6f9f949",
   "metadata": {},
   "outputs": [
    {
     "name": "stdout",
     "output_type": "stream",
     "text": [
      "123\\\n"
     ]
    },
    {
     "ename": "ValueError",
     "evalue": "invalid literal for int() with base 10: '123\\\\'",
     "output_type": "error",
     "traceback": [
      "\u001b[1;31m---------------------------------------------------------------------------\u001b[0m",
      "\u001b[1;31mValueError\u001b[0m                                Traceback (most recent call last)",
      "\u001b[1;32mC:\\Users\\JEONIL~1\\AppData\\Local\\Temp/ipykernel_10632/4243730434.py\u001b[0m in \u001b[0;36m<module>\u001b[1;34m\u001b[0m\n\u001b[0;32m     19\u001b[0m \u001b[0mhint\u001b[0m\u001b[1;33m:\u001b[0m \u001b[0m입력\u001b[0m \u001b[0m예시를\u001b[0m \u001b[0m잘\u001b[0m \u001b[0m확인한\u001b[0m \u001b[0m뒤\u001b[0m\u001b[1;33m,\u001b[0m \u001b[0m값을\u001b[0m \u001b[0m입력\u001b[0m \u001b[0m받으세요\u001b[0m\u001b[1;33m.\u001b[0m\u001b[1;33m\u001b[0m\u001b[1;33m\u001b[0m\u001b[0m\n\u001b[0;32m     20\u001b[0m '''\n\u001b[1;32m---> 21\u001b[1;33m \u001b[0mgaro\u001b[0m\u001b[1;33m,\u001b[0m \u001b[0msero\u001b[0m \u001b[1;33m=\u001b[0m \u001b[0mmap\u001b[0m\u001b[1;33m(\u001b[0m\u001b[0mint\u001b[0m\u001b[1;33m,\u001b[0m \u001b[0minput\u001b[0m\u001b[1;33m(\u001b[0m\u001b[1;33m)\u001b[0m\u001b[1;33m.\u001b[0m\u001b[0msplit\u001b[0m\u001b[1;33m(\u001b[0m\u001b[1;34m','\u001b[0m\u001b[1;33m)\u001b[0m\u001b[1;33m)\u001b[0m \u001b[1;31m# 가로 길이, 세로 길이 입력\u001b[0m\u001b[1;33m\u001b[0m\u001b[1;33m\u001b[0m\u001b[0m\n\u001b[0m\u001b[0;32m     22\u001b[0m \u001b[0marea\u001b[0m \u001b[1;33m=\u001b[0m \u001b[0mgaro\u001b[0m \u001b[1;33m*\u001b[0m \u001b[0msero\u001b[0m \u001b[1;31m# 너비를 구해서 하나의 변수에 저장\u001b[0m\u001b[1;33m\u001b[0m\u001b[1;33m\u001b[0m\u001b[0m\n\u001b[0;32m     23\u001b[0m \u001b[0mprint\u001b[0m\u001b[1;33m(\u001b[0m\u001b[1;34mf'직사각형의 너비는 {area}입니다.'\u001b[0m\u001b[1;33m)\u001b[0m \u001b[1;31m# 너비를 출력\u001b[0m\u001b[1;33m\u001b[0m\u001b[1;33m\u001b[0m\u001b[0m\n",
      "\u001b[1;31mValueError\u001b[0m: invalid literal for int() with base 10: '123\\\\'"
     ]
    }
   ],
   "source": [
    "'''\n",
    "실습 문제 1\n",
    "직사각형의 가로 길이와 세로 길이를 입력받고,\n",
    "그 직사각형의 너비를 구하여 하나의 변수에 저장한 뒤,\n",
    "다음과 같이 너비를 출력하도록 하는 프로그램을 만들어보자.\n",
    "\n",
    "입력 예시 1\n",
    "10, 20\n",
    "\n",
    "출력 예시 1\n",
    "직사각형의 너비는 200입니다.\n",
    "\n",
    "입력 예시 2\n",
    "0, 10\n",
    "\n",
    "출력 예시 2\n",
    "직사각형의 너비는 0입니다.\n",
    "\n",
    "hint: 입력 예시를 잘 확인한 뒤, 값을 입력 받으세요.\n",
    "'''\n",
    "x, y = map(int, input().split(',')) \n",
    "temp = x * y \n",
    "print(f'직사각형의 너비는 {temp}입니다.')\n",
    "print('직사각형의 너비는 %d입니다.' %(temp))\n",
    "print('직사각형의 너비는 {a}입니다'.format(a=temp))"
   ]
  },
  {
   "cell_type": "code",
   "execution_count": 5,
   "id": "445dac2e",
   "metadata": {},
   "outputs": [
    {
     "name": "stdout",
     "output_type": "stream",
     "text": [
      "인천\n",
      "이름은 전일규 이며, 나이는 25살 사는곳은 인천 입니다. 현재 현금은 4.12 $를 소지하고 있습니다.\n"
     ]
    }
   ],
   "source": [
    "name = \"전일규\"\n",
    "age = 25\n",
    "money = 4.12\n",
    "address = input()\n",
    "\n",
    "\n",
    "print(\"이름은 %s 이며, 나이는 %d살 사는곳은 %s 입니다. 현재 현금은 %.2f$를 소지하고 있습니다.\" %(name, age, address, money))"
   ]
  }
 ],
 "metadata": {
  "kernelspec": {
   "display_name": "Python 3 (ipykernel)",
   "language": "python",
   "name": "python3"
  },
  "language_info": {
   "codemirror_mode": {
    "name": "ipython",
    "version": 3
   },
   "file_extension": ".py",
   "mimetype": "text/x-python",
   "name": "python",
   "nbconvert_exporter": "python",
   "pygments_lexer": "ipython3",
   "version": "3.9.7"
  }
 },
 "nbformat": 4,
 "nbformat_minor": 5
}
