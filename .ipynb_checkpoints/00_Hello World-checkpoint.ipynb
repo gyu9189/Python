{
 "cells": [
  {
   "cell_type": "code",
   "execution_count": 3,
   "id": "8e9e06c6",
   "metadata": {},
   "outputs": [
    {
     "ename": "SyntaxError",
     "evalue": "invalid syntax (Temp/ipykernel_5236/11569747.py, line 1)",
     "output_type": "error",
     "traceback": [
      "\u001b[1;36m  File \u001b[1;32m\"C:\\Users\\JEONIL~1\\AppData\\Local\\Temp/ipykernel_5236/11569747.py\"\u001b[1;36m, line \u001b[1;32m1\u001b[0m\n\u001b[1;33m    for(int i = 0; i < 5; i ++) {\u001b[0m\n\u001b[1;37m            ^\u001b[0m\n\u001b[1;31mSyntaxError\u001b[0m\u001b[1;31m:\u001b[0m invalid syntax\n"
     ]
    }
   ],
   "source": []
  },
  {
   "cell_type": "code",
   "execution_count": null,
   "id": "ebac7fc4",
   "metadata": {},
   "outputs": [],
   "source": []
  },
  {
   "cell_type": "markdown",
   "id": "a05408cf",
   "metadata": {},
   "source": [
    "# Helllll World!!! :<\n",
    "- 현재 셀은 마크다운 입니다.\n",
    "* 이 줄은 무슨 표현일까요 ?\n",
    "\n",
    "# Headline1 \n",
    "## Headline2\n",
    "### Headline3\n",
    "#### Headline4  [ -- 작아지기만 합니다~]\n",
    "##### Headline5  [ 작아지며 기울어지기 시작 ]\n",
    "###### Headline6 [ 5랑 별 차이 없음 ]\n",
    "####### Headline [X] h6 까지밖에 없습니당"
   ]
  },
  {
   "cell_type": "markdown",
   "id": "d25c3d48",
   "metadata": {},
   "source": [
    "## Headline2\n",
    "- 셀을 선택한 상태에서 숫자키 1 에서 6 까지 누르면 headline 숫자에 해당하는 headline이 자동완성 됨\n",
    "\n",
    "1. 그래요~\n",
    "2. 프로젝트 가다듬기 빡시네\n",
    "3. 인터셉터랑 핸들러, 필터도 먹여야하고\n",
    "4. 관리자페이지 controller 를 처음부터 내가 만들어볼까 ?? \n",
    "5. 개재밌겟누 ~~~\n"
   ]
  },
  {
   "cell_type": "code",
   "execution_count": 41,
   "id": "99694845",
   "metadata": {
    "scrolled": false
   },
   "outputs": [
    {
     "data": {
      "text/plain": [
       "1"
      ]
     },
     "execution_count": 41,
     "metadata": {},
     "output_type": "execute_result"
    }
   ],
   "source": [
    "1"
   ]
  },
  {
   "cell_type": "markdown",
   "id": "3d123363",
   "metadata": {},
   "source": [
    "### print() : Java 에 Sysout 이랑 같음 기본적으로 ln 해주는듯\n",
    "- print 함수는 원하는 데이터를 여러개 넣어 출력할 수 있다 ~\n",
    "- ex) print(1, 2) >> 1 2 가 출력될거임"
   ]
  },
  {
   "cell_type": "code",
   "execution_count": 48,
   "id": "e651ff2f",
   "metadata": {},
   "outputs": [
    {
     "ename": "SyntaxError",
     "evalue": "invalid syntax (Temp/ipykernel_5236/3900226316.py, line 6)",
     "output_type": "error",
     "traceback": [
      "\u001b[1;36m  File \u001b[1;32m\"C:\\Users\\JEONIL~1\\AppData\\Local\\Temp/ipykernel_5236/3900226316.py\"\u001b[1;36m, line \u001b[1;32m6\u001b[0m\n\u001b[1;33m    plus = nice += good\u001b[0m\n\u001b[1;37m                ^\u001b[0m\n\u001b[1;31mSyntaxError\u001b[0m\u001b[1;31m:\u001b[0m invalid syntax\n"
     ]
    }
   ],
   "source": [
    "print(1, 2)\n",
    "nice = 4\n",
    "good = 5\n",
    "best = 7\n",
    "string = '문자열 출력 test'\n",
    "plus = nice += good\n",
    "print(nice, good, best, string, plus)"
   ]
  },
  {
   "cell_type": "markdown",
   "id": "bc88c53d",
   "metadata": {},
   "source": [
    "### 주석\n",
    "컴파일 단계에서 읽지않고 넘어가는 code\n",
    "1. 내가 작성한 코드를 나중에 확인할 때사용\n",
    "2. 내가 작성한 코드를 다른사람과 공유할 때 사용\n",
    "\n",
    "#### 한줄주석 : #\n",
    "- 간단하게 코드에 대해 설명할 때 한줄 단위로 작성\n",
    "#### 여러줄 주석 : ''' [내용]''' or \"\"\"[내용]\"\"\" 싱글따옴표 혹은 더블따옴표로 주석처리한다\n",
    "- 여러줄 단위로 코드에 대해 설명할 때 내용을 작성\n",
    "- cf) FDR"
   ]
  },
  {
   "cell_type": "code",
   "execution_count": 51,
   "id": "f38b736a",
   "metadata": {},
   "outputs": [
    {
     "name": "stdout",
     "output_type": "stream",
     "text": [
      "1\n"
     ]
    }
   ],
   "source": [
    "int = 1\n",
    "\n",
    "''' long = 2 '''\n",
    "\n",
    "print(int)"
   ]
  },
  {
   "cell_type": "markdown",
   "id": "0c21f677",
   "metadata": {},
   "source": [
    "### type() : 데이터 타입을 확인 할 수 있습니다.\n",
    "형볂환 함수\n",
    "- 데이터 타입을 바꿔줍니다.\n",
    "- int : 정수형으로 바꿔줍니다.\n",
    "- float : 실수형\n",
    "- str : 문자열\n",
    "- bool : true, false"
   ]
  },
  {
   "cell_type": "code",
   "execution_count": 20,
   "id": "9b8ab6ec",
   "metadata": {},
   "outputs": [
    {
     "name": "stdout",
     "output_type": "stream",
     "text": [
      "False True\n",
      "Hell world + good\n",
      "nicegood\n",
      "1\n",
      "1.0\n",
      "1.0\n",
      "2j\n",
      "1 <class 'str'>\n",
      "1 <class 'int'>\n",
      "97 <class 'int'>\n",
      "97 <class 'int'>\n",
      "1 : 1의 타입은 <class 'int'>\n",
      "2 : 1.0의 타입은 <class 'float'>\n",
      "3 : 2j의 타입 <class 'complex'>\n",
      "4 : 안녕 <class 'str'>\n",
      "5 : True <class 'bool'>\n"
     ]
    }
   ],
   "source": [
    "# print type\n",
    "# bool type\n",
    "good = False\n",
    "nice = True\n",
    "print(good, nice)\n",
    "a = 'nice'\n",
    "b = 'good'\n",
    "body = a + b\n",
    "# 문자열 str type\n",
    "print('Hell world' + ' + ' +'good')\n",
    "print(body)\n",
    "#print(abc) >> 문자열은 '' 나 \"\" 사이에 적어줘야 합니다 String\n",
    "\n",
    "print(1) # int \n",
    "print(1.0) # double or float \n",
    "print(1.000) # double or float\n",
    "print(2j) # 복소수형 complex\n",
    "print('1', type('1')) # type 은 어떠한 타입인지 찍어줌\n",
    "print(int('1'), type(int('1'))) # 형변환\n",
    "print(ord('a'), type(ord('a'))) # ord 는 문자열을 아스키코드로 형변환\n",
    "print(int(ord('a')), type(int(ord('a'))))\n",
    "\n",
    "# type\n",
    "print('1 : ' + '1의 타입은', type(1))\n",
    "print('2 : ' + '1.0의 타입은',type(1.0))\n",
    "print('3 : ' + '2j의 타입', type(2j))\n",
    "print('4 : ' + '안녕', type('안녕'))\n",
    "print('5 : ' + 'True', type(True))"
   ]
  },
  {
   "cell_type": "code",
   "execution_count": 5,
   "id": "e8321059",
   "metadata": {},
   "outputs": [
    {
     "name": "stdout",
     "output_type": "stream",
     "text": [
      "삼촌뻘\n"
     ]
    }
   ],
   "source": [
    "age = 50\n",
    "if age > 40: print(\"삼촌뻘\")\n"
   ]
  },
  {
   "cell_type": "code",
   "execution_count": 41,
   "id": "d4f288ff",
   "metadata": {},
   "outputs": [
    {
     "name": "stdout",
     "output_type": "stream",
     "text": [
      "+ :  5\n",
      "- :  3\n",
      "* :  4\n",
      "/ :  2.5\n",
      "// :  3.0\n",
      "% :  1\n",
      "** :  16\n",
      "11\n"
     ]
    }
   ],
   "source": [
    "#연산자\n",
    "# + : 더하기\n",
    "# - : 빼기\n",
    "# * : 곱하기\n",
    "# / : 나누기\n",
    "# // : 정수 나누기\n",
    "# % : 나머지\n",
    "# ** : 제곱\n",
    "\n",
    "print('+ : ', 1 + 4)\n",
    "print('- : ', 4 - 1)\n",
    "print('* : ', 2 * 2)\n",
    "print('/ : ', 5 / 2)\n",
    "print('// : ', 6.5 // 2) # 나누기 후 소수점을 버림\n",
    "print('% : ', 5 % 2) # 나누기 \n",
    "print('** : ', 2**4) # 2의 4제곱\n",
    "print(int(2 ** 3.5))"
   ]
  },
  {
   "cell_type": "code",
   "execution_count": 38,
   "id": "aeaaa688",
   "metadata": {},
   "outputs": [
    {
     "name": "stdout",
     "output_type": "stream",
     "text": [
      "one\n",
      "two\n",
      "three\n"
     ]
    }
   ],
   "source": [
    "test_list = ['one', 'two', 'three'] # 배열\n",
    "for i in test_list: \n",
    "     print(i) # 자동 i ++ 하면서 다음 index 를 print 해달라 ~"
   ]
  },
  {
   "cell_type": "code",
   "execution_count": 46,
   "id": "ebcd2cc6",
   "metadata": {},
   "outputs": [
    {
     "name": "stdout",
     "output_type": "stream",
     "text": [
      "합격\n",
      "합격\n",
      "불합격\n",
      "합격\n",
      "잘못된 점수입니다.\n"
     ]
    }
   ],
   "source": [
    "# for문 예제 : 배열안에 5명의 학생성적이 있다 80점 미만인 학생은 '불합격' 이상인 학생은 '합격' 을 출력해주세요.\n",
    "# 다만 100점 초과는 없습니다.\n",
    "array = [82, 80, 40, 100, 1000]\n",
    "\n",
    "for i in array:\n",
    "    if i > 79 and i < 101:\n",
    "        print('합격')\n",
    "    elif i < 79:\n",
    "        print('불합격')\n",
    "    else:\n",
    "        print('잘못된 점수입니다.')\n",
    "\n",
    "        \n"
   ]
  },
  {
   "cell_type": "code",
   "execution_count": 57,
   "id": "1e9a5dcb",
   "metadata": {},
   "outputs": [
    {
     "name": "stdout",
     "output_type": "stream",
     "text": [
      "1 :  <class 'float'> <class 'int'>\n",
      "2 :  <class 'str'> <class 'int'>\n",
      "3 :  <class 'int'> a <class 'str'> 0x61 <class 'str'>\n"
     ]
    }
   ],
   "source": [
    "# 형변환 함수\n",
    "# int\n",
    "print('1 : ', type(1.0), type(int(1.0)))\n",
    "print('2 : ', type('a'), type(ord('a')))\n",
    "print('3 : ', type(97), chr(97), type(chr(97)), hex(97), type(hex(97))) # hex 는 16진수로 형변환입니당."
   ]
  },
  {
   "cell_type": "code",
   "execution_count": 71,
   "id": "73724af0",
   "metadata": {},
   "outputs": [
    {
     "name": "stdout",
     "output_type": "stream",
     "text": [
      "나이 : 25\n",
      "나이나이 : 2525\n",
      "문자열 길이 : 2\n",
      "notNull\n"
     ]
    }
   ],
   "source": [
    "# 문자열 연산\n",
    "# + : 문자열 결합\n",
    "title = \"나이\"\n",
    "age = \"25\"\n",
    "print(title + \" : \" + age)\n",
    "\n",
    "# * : 문자열 반복\n",
    "print(title*2 + \" : \" + age*2)\n",
    "\n",
    "# len : 문자열 길이\n",
    "print(\"문자열 길이 : \" + str(len(title)))\n",
    "\n",
    "# if문 null check\n",
    "check = '' # null\n",
    "if check == False:\n",
    "    print(\"null\")\n",
    "else:\n",
    "    print(\"notNull\")"
   ]
  }
 ],
 "metadata": {
  "kernelspec": {
   "display_name": "Python 3 (ipykernel)",
   "language": "python",
   "name": "python3"
  },
  "language_info": {
   "codemirror_mode": {
    "name": "ipython",
    "version": 3
   },
   "file_extension": ".py",
   "mimetype": "text/x-python",
   "name": "python",
   "nbconvert_exporter": "python",
   "pygments_lexer": "ipython3",
   "version": "3.9.7"
  }
 },
 "nbformat": 4,
 "nbformat_minor": 5
}
