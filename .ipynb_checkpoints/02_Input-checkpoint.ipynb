{
 "cells": [
  {
   "cell_type": "markdown",
   "id": "be6a731a",
   "metadata": {},
   "source": [
    "## Input\n",
    "프로그래밍을 하다보면 실행 시간 중(Runtime)에 변수를 입력받을 일이 매우 많습니다.<br>\n",
    "\n",
    "변수를 입력받을 때는 input 함수를 사용합니다.<br>\n",
    "1. input(): 하나의 변수를 입력받을 때 사용\n",
    "2. input().split(): 두 개 이상의 변수를 입력받을 때 사용\n",
    "\n",
    "- input()에서 괄호 안에 문자열을 입력할 수 있습니다.\n",
    "    - ex) input('이름을 입력해주세요.')\n",
    "- split(): 문자열을 나눠주는 역할을 하는 함수로 괄호 안에 아무것도 입력하지 않는 경우 공백을 기준으로 문자열을 나눠줍니다.\n",
    "    - ex) split(',') -> 구분자가 ','이다.\n",
    "3. map(형변환 함수, list): 리스트 내부 원소의 데이터 타입을 형변환 함수로 바꿔줍니다.\n",
    "    - 리스트란 파이썬 자료구조 프레임워크 중 하나로 데이터 집합의 한 종류입니다."
   ]
  },
  {
   "cell_type": "code",
   "execution_count": 17,
   "id": "aa01dd0f",
   "metadata": {},
   "outputs": [
    {
     "ename": "SyntaxError",
     "evalue": "invalid syntax (Temp/ipykernel_1760/834152958.py, line 9)",
     "output_type": "error",
     "traceback": [
      "\u001b[1;36m  File \u001b[1;32m\"C:\\Users\\JEONIL~1\\AppData\\Local\\Temp/ipykernel_1760/834152958.py\"\u001b[1;36m, line \u001b[1;32m9\u001b[0m\n\u001b[1;33m    input함수는 데이터를 입력받을 때 문자열의 형태로 입력받습니다.\u001b[0m\n\u001b[1;37m             ^\u001b[0m\n\u001b[1;31mSyntaxError\u001b[0m\u001b[1;31m:\u001b[0m invalid syntax\n"
     ]
    }
   ],
   "source": [
    " # input()\n",
    " name = input()\n",
    " print(name, type(name))\n",
    "\n",
    " # input('---')\n",
    " name = input('이름을 입력해주세요.')\n",
    " print(name, type(name))\n",
    "\n",
    " # input함수는 데이터를 입력받을 때 문자열의 형태로 입력받습니다.\n",
    " age = input('나이를 적어주세요.')\n",
    " print(age, type(age))\n",
    "\n",
    " # 주어진 입력을 int로 데이터 타입을 바꾸는 방법 1\n",
    " age = int(age)\n",
    " print(age, type(age))\n",
    "\n",
    "\n",
    "# 주어진 입력을 int로 데이터 타입을 바꾸는 방법 2\n",
    "age = int(input('나이를 적어주세요.'))\n",
    "print(age, type(age))\n",
    "\n",
    "A, B = int(input('숫자를 적어주세요.')).split()\n",
    "print(a, b)"
   ]
  },
  {
   "cell_type": "code",
   "execution_count": 8,
   "id": "212d26ba",
   "metadata": {},
   "outputs": [
    {
     "name": "stdout",
     "output_type": "stream",
     "text": [
      "I love you.\n",
      "['I', 'love', 'you.']\n",
      "['I l', 've y', 'u.']\n"
     ]
    }
   ],
   "source": [
    "# split()\n",
    "print('I love you.')\n",
    "print('I love you.'.split())\n",
    "print('I love you.'.split('o'))"
   ]
  },
  {
   "cell_type": "code",
   "execution_count": 3,
   "id": "597631fe",
   "metadata": {
    "scrolled": true
   },
   "outputs": [
    {
     "name": "stdout",
     "output_type": "stream",
     "text": [
      "당신의 이름과 나이를 입력해주세요.일규 25\n",
      "일규 25\n",
      "name의 타입 <class 'str'>\n",
      "age의 타입 <class 'str'>\n",
      "숫자를 입력해주세요1-2-3\n",
      "1 2 3\n",
      "<class 'int'> <class 'int'> <class 'int'>\n",
      "문자열을 입력해주세요. 3개문,자,열\n",
      "문자열\n"
     ]
    }
   ],
   "source": [
    "# 여러 개의 데이터 입력받기\n",
    "name, age = input('당신의 이름과 나이를 입력해주세요.').split() # \"최한빈 99\".split() >> ['최한빈', '99']\n",
    "print(name, age)\n",
    "print('name의 타입', type(name))\n",
    "print('age의 타입', type(age))\n",
    "\n",
    "# map 을 사용해 split 입력 받을때에는 무적권! 입력받을 데이터의 type 을 정해줘야한다.\n",
    "A, B, C = map(int, input('숫자를 입력해주세요').split('-'))\n",
    "\n",
    "print(A, B, C)\n",
    "print(type(A), type(B), type(C))\n",
    "\n",
    "D, E, F = map(str, input('문자열을 입력해주세요. 3개').split(','))\n",
    "print(D + E + F)"
   ]
  },
  {
   "cell_type": "code",
   "execution_count": 15,
   "id": "7eea8cbb",
   "metadata": {},
   "outputs": [
    {
     "name": "stdout",
     "output_type": "stream",
     "text": [
      "당신의 이름과 나이를 입력해주세요.최한빈 99\n",
      "최한빈 99\n",
      "name의 타입 <class 'str'>\n",
      "age의 타입 <class 'int'>\n"
     ]
    }
   ],
   "source": [
    "# 여러 개의 데이터 입력 받기 + 타입 변환\n",
    "name, age = input('당신의 이름과 나이를 입력해주세요.').split()\n",
    "age = int(age)\n",
    "print(name, age)\n",
    "print('name의 타입', type(name))\n",
    "print('age의 타입', type(age))"
   ]
  },
  {
   "cell_type": "code",
   "execution_count": 16,
   "id": "9b029678",
   "metadata": {},
   "outputs": [
    {
     "name": "stdout",
     "output_type": "stream",
     "text": [
      "한빈이와 한순이의 나이를 입력해주세요.99 98\n"
     ]
    },
    {
     "ename": "TypeError",
     "evalue": "int() argument must be a string, a bytes-like object or a number, not 'list'",
     "output_type": "error",
     "traceback": [
      "\u001b[1;31m---------------------------------------------------------------------------\u001b[0m",
      "\u001b[1;31mTypeError\u001b[0m                                 Traceback (most recent call last)",
      "\u001b[1;32mC:\\Users\\ADMINI~1\\AppData\\Local\\Temp/ipykernel_10140/539566561.py\u001b[0m in \u001b[0;36m<module>\u001b[1;34m\u001b[0m\n\u001b[0;32m      1\u001b[0m \u001b[1;31m# 여러 개의 데이터 입력받기 + 모든 입력 데이터 타입 변환\u001b[0m\u001b[1;33m\u001b[0m\u001b[1;33m\u001b[0m\u001b[0m\n\u001b[1;32m----> 2\u001b[1;33m \u001b[0mage1\u001b[0m\u001b[1;33m,\u001b[0m \u001b[0mage2\u001b[0m \u001b[1;33m=\u001b[0m \u001b[0mint\u001b[0m\u001b[1;33m(\u001b[0m\u001b[0minput\u001b[0m\u001b[1;33m(\u001b[0m\u001b[1;34m'한빈이와 한순이의 나이를 입력해주세요.'\u001b[0m\u001b[1;33m)\u001b[0m\u001b[1;33m.\u001b[0m\u001b[0msplit\u001b[0m\u001b[1;33m(\u001b[0m\u001b[1;33m)\u001b[0m\u001b[1;33m)\u001b[0m\u001b[1;33m\u001b[0m\u001b[1;33m\u001b[0m\u001b[0m\n\u001b[0m\u001b[0;32m      3\u001b[0m \u001b[0mprint\u001b[0m\u001b[1;33m(\u001b[0m\u001b[0mage1\u001b[0m\u001b[1;33m,\u001b[0m \u001b[0mage2\u001b[0m\u001b[1;33m)\u001b[0m\u001b[1;33m\u001b[0m\u001b[1;33m\u001b[0m\u001b[0m\n",
      "\u001b[1;31mTypeError\u001b[0m: int() argument must be a string, a bytes-like object or a number, not 'list'"
     ]
    }
   ],
   "source": [
    "# 여러 개의 데이터 입력받기 + 모든 입력 데이터 타입 변환 -> TypeError\n",
    "# age1, age2 = int(input('한빈이와 한순이의 나이를 입력해주세요.').split())\n",
    "# print(age1, age2)"
   ]
  },
  {
   "cell_type": "code",
   "execution_count": 17,
   "id": "46952c4e",
   "metadata": {},
   "outputs": [
    {
     "name": "stdout",
     "output_type": "stream",
     "text": [
      "한빈이와 한순이의 나이를 입력해주세요.98 99\n",
      "98 99\n",
      "age1의 타입 <class 'int'>\n",
      "age2의 타입 <class 'int'>\n"
     ]
    }
   ],
   "source": [
    "# 여러 개의 데이터 입력 받기 + 모든 입력 데이터 타입 변환 (map함수 사용)\n",
    "# map(int, input().split()) / 입력: 98 99 -> map(int, ['98', '99']) -> [98, 99]\n",
    "age1, age2 = map(int, input('한빈이와 한순이의 나이를 입력해주세요.').split())\n",
    "print(age1, age2)\n",
    "print('age1의 타입', type(age1))\n",
    "print('age2의 타입', type(age2))"
   ]
  },
  {
   "cell_type": "code",
   "execution_count": 6,
   "id": "73f1d733",
   "metadata": {},
   "outputs": [
    {
     "name": "stdout",
     "output_type": "stream",
     "text": [
      "100, 200, 300\n",
      "1000\n",
      "상추, 깻잎, 삼겹살 순으로 구매할 양을 적어주세요.100, 200, 300\n",
      "상추 가격 : 30000원깻잎 가격 : 100000원삼겹살 가격 : 300000원총 가격 :  430000원\n"
     ]
    }
   ],
   "source": [
    "# 실습 문제\n",
    "# 오늘 마트에 가서 상추 2개, 깻잎 1개, 삼겹살 200g을 구매할 계획이다.\n",
    "# 상추와 깻잎, 삼겹살의 가격을 쉼표를 기준으로 입력받아,\n",
    "# 오늘 장을 봐서 드는 비용이 얼마일지 계산하시오.\n",
    "\n",
    "# 입력예시\n",
    "# 100,200,1000\n",
    "# 상추 1개당 가격, 깻잎 1개당 가격, 삼겹살 100g당 가격\n",
    "\n",
    "# 출력예시\n",
    "# 2400\n",
    "\n",
    "a, b, c = map(int, input().split(', '))\n",
    "print(a*2 + b*1 + c*2)\n",
    "\n",
    "a, b, c = 300, 500, 1000 # 상추 가격, 깻잎 가격, 삼겹살 200g 당 가격\n",
    "d, e, f = map(int, input(\"상추, 깻잎, 삼겹살 순으로 구매할 양을 적어주세요.\").split(', '))\n",
    "\n",
    "finalPrice = a*d + b*e + c*f\n",
    "print('상추 가격 : ' + str(a*d) + '원 ' + '깻잎 가격 : ' + str(b*e) + '원 ' + '삼겹살 가격 : ' + str(c*f) + '원 ' + '총 가격 : ', str(finalPrice) + '원')"
   ]
  }
 ],
 "metadata": {
  "kernelspec": {
   "display_name": "Python 3 (ipykernel)",
   "language": "python",
   "name": "python3"
  },
  "language_info": {
   "codemirror_mode": {
    "name": "ipython",
    "version": 3
   },
   "file_extension": ".py",
   "mimetype": "text/x-python",
   "name": "python",
   "nbconvert_exporter": "python",
   "pygments_lexer": "ipython3",
   "version": "3.9.7"
  }
 },
 "nbformat": 4,
 "nbformat_minor": 5
}
